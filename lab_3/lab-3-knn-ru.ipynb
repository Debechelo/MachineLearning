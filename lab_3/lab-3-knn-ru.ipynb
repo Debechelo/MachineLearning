{
 "cells": [
  {
   "cell_type": "markdown",
   "metadata": {},
   "source": [
    "## Лабораторная 3: метод ближайших соседей (kNN)"
   ]
  },
  {
   "cell_type": "markdown",
   "metadata": {},
   "source": [
    "В рамках этого занятия мы будем создавать модель для предсказания выживших пассажиров на \"Титанике\" (классическое учебное Kaggle [соревнование](https://www.kaggle.com/c/titanic)).\n",
    "\n",
    "![Титаник](http://staff.mmcs.sfedu.ru/~sguda/MachineLearning/titanic.png)\n",
    "\n",
    "## 1"
   ]
  },
  {
   "cell_type": "markdown",
   "metadata": {},
   "source": [
    "Загрузите данные о погибших в катастрофе с \"Титаником\". Целевым признаком здесь является факт спасения пассажира. Посмотрите на данные."
   ]
  },
  {
   "cell_type": "code",
   "execution_count": 39,
   "metadata": {},
   "outputs": [],
   "source": [
    "import pandas as pd"
   ]
  },
  {
   "cell_type": "code",
   "execution_count": 48,
   "metadata": {},
   "outputs": [],
   "source": [
    "data = pd.read_csv('data.csv', delimiter=',')"
   ]
  },
  {
   "cell_type": "code",
   "execution_count": 49,
   "metadata": {},
   "outputs": [
    {
     "data": {
      "text/html": [
       "<div>\n",
       "<style scoped>\n",
       "    .dataframe tbody tr th:only-of-type {\n",
       "        vertical-align: middle;\n",
       "    }\n",
       "\n",
       "    .dataframe tbody tr th {\n",
       "        vertical-align: top;\n",
       "    }\n",
       "\n",
       "    .dataframe thead th {\n",
       "        text-align: right;\n",
       "    }\n",
       "</style>\n",
       "<table border=\"1\" class=\"dataframe\">\n",
       "  <thead>\n",
       "    <tr style=\"text-align: right;\">\n",
       "      <th></th>\n",
       "      <th>PassengerId</th>\n",
       "      <th>Survived</th>\n",
       "      <th>Pclass</th>\n",
       "      <th>Age</th>\n",
       "      <th>SibSp</th>\n",
       "      <th>Parch</th>\n",
       "      <th>Fare</th>\n",
       "    </tr>\n",
       "  </thead>\n",
       "  <tbody>\n",
       "    <tr>\n",
       "      <th>count</th>\n",
       "      <td>891.000000</td>\n",
       "      <td>891.000000</td>\n",
       "      <td>891.000000</td>\n",
       "      <td>714.000000</td>\n",
       "      <td>891.000000</td>\n",
       "      <td>891.000000</td>\n",
       "      <td>891.000000</td>\n",
       "    </tr>\n",
       "    <tr>\n",
       "      <th>mean</th>\n",
       "      <td>446.000000</td>\n",
       "      <td>0.383838</td>\n",
       "      <td>2.308642</td>\n",
       "      <td>29.699118</td>\n",
       "      <td>0.523008</td>\n",
       "      <td>0.381594</td>\n",
       "      <td>32.204208</td>\n",
       "    </tr>\n",
       "    <tr>\n",
       "      <th>std</th>\n",
       "      <td>257.353842</td>\n",
       "      <td>0.486592</td>\n",
       "      <td>0.836071</td>\n",
       "      <td>14.526497</td>\n",
       "      <td>1.102743</td>\n",
       "      <td>0.806057</td>\n",
       "      <td>49.693429</td>\n",
       "    </tr>\n",
       "    <tr>\n",
       "      <th>min</th>\n",
       "      <td>1.000000</td>\n",
       "      <td>0.000000</td>\n",
       "      <td>1.000000</td>\n",
       "      <td>0.420000</td>\n",
       "      <td>0.000000</td>\n",
       "      <td>0.000000</td>\n",
       "      <td>0.000000</td>\n",
       "    </tr>\n",
       "    <tr>\n",
       "      <th>25%</th>\n",
       "      <td>223.500000</td>\n",
       "      <td>0.000000</td>\n",
       "      <td>2.000000</td>\n",
       "      <td>20.125000</td>\n",
       "      <td>0.000000</td>\n",
       "      <td>0.000000</td>\n",
       "      <td>7.910400</td>\n",
       "    </tr>\n",
       "    <tr>\n",
       "      <th>50%</th>\n",
       "      <td>446.000000</td>\n",
       "      <td>0.000000</td>\n",
       "      <td>3.000000</td>\n",
       "      <td>28.000000</td>\n",
       "      <td>0.000000</td>\n",
       "      <td>0.000000</td>\n",
       "      <td>14.454200</td>\n",
       "    </tr>\n",
       "    <tr>\n",
       "      <th>75%</th>\n",
       "      <td>668.500000</td>\n",
       "      <td>1.000000</td>\n",
       "      <td>3.000000</td>\n",
       "      <td>38.000000</td>\n",
       "      <td>1.000000</td>\n",
       "      <td>0.000000</td>\n",
       "      <td>31.000000</td>\n",
       "    </tr>\n",
       "    <tr>\n",
       "      <th>max</th>\n",
       "      <td>891.000000</td>\n",
       "      <td>1.000000</td>\n",
       "      <td>3.000000</td>\n",
       "      <td>80.000000</td>\n",
       "      <td>8.000000</td>\n",
       "      <td>6.000000</td>\n",
       "      <td>512.329200</td>\n",
       "    </tr>\n",
       "  </tbody>\n",
       "</table>\n",
       "</div>"
      ],
      "text/plain": [
       "       PassengerId    Survived      Pclass         Age       SibSp  \\\n",
       "count   891.000000  891.000000  891.000000  714.000000  891.000000   \n",
       "mean    446.000000    0.383838    2.308642   29.699118    0.523008   \n",
       "std     257.353842    0.486592    0.836071   14.526497    1.102743   \n",
       "min       1.000000    0.000000    1.000000    0.420000    0.000000   \n",
       "25%     223.500000    0.000000    2.000000   20.125000    0.000000   \n",
       "50%     446.000000    0.000000    3.000000   28.000000    0.000000   \n",
       "75%     668.500000    1.000000    3.000000   38.000000    1.000000   \n",
       "max     891.000000    1.000000    3.000000   80.000000    8.000000   \n",
       "\n",
       "            Parch        Fare  \n",
       "count  891.000000  891.000000  \n",
       "mean     0.381594   32.204208  \n",
       "std      0.806057   49.693429  \n",
       "min      0.000000    0.000000  \n",
       "25%      0.000000    7.910400  \n",
       "50%      0.000000   14.454200  \n",
       "75%      0.000000   31.000000  \n",
       "max      6.000000  512.329200  "
      ]
     },
     "execution_count": 49,
     "metadata": {},
     "output_type": "execute_result"
    }
   ],
   "source": [
    "data.describe()"
   ]
  },
  {
   "cell_type": "code",
   "execution_count": 50,
   "metadata": {},
   "outputs": [],
   "source": [
    "# место для кода"
   ]
  },
  {
   "cell_type": "markdown",
   "metadata": {},
   "source": [
    "Для простоты исключите пассажиров с неизвестным возрастом и заново перенумеруйте строки\n",
    "\n",
    "*Функции, которые могут пригодиться при решении: `.dropna(subset=['Age']), .reset_index(drop=True)`*"
   ]
  },
  {
   "cell_type": "code",
   "execution_count": 51,
   "metadata": {},
   "outputs": [
    {
     "data": {
      "text/html": [
       "<div>\n",
       "<style scoped>\n",
       "    .dataframe tbody tr th:only-of-type {\n",
       "        vertical-align: middle;\n",
       "    }\n",
       "\n",
       "    .dataframe tbody tr th {\n",
       "        vertical-align: top;\n",
       "    }\n",
       "\n",
       "    .dataframe thead th {\n",
       "        text-align: right;\n",
       "    }\n",
       "</style>\n",
       "<table border=\"1\" class=\"dataframe\">\n",
       "  <thead>\n",
       "    <tr style=\"text-align: right;\">\n",
       "      <th></th>\n",
       "      <th>PassengerId</th>\n",
       "      <th>Survived</th>\n",
       "      <th>Pclass</th>\n",
       "      <th>Name</th>\n",
       "      <th>Sex</th>\n",
       "      <th>Age</th>\n",
       "      <th>SibSp</th>\n",
       "      <th>Parch</th>\n",
       "      <th>Ticket</th>\n",
       "      <th>Fare</th>\n",
       "      <th>Cabin</th>\n",
       "      <th>Embarked</th>\n",
       "    </tr>\n",
       "  </thead>\n",
       "  <tbody>\n",
       "    <tr>\n",
       "      <th>0</th>\n",
       "      <td>1</td>\n",
       "      <td>0</td>\n",
       "      <td>3</td>\n",
       "      <td>Braund, Mr. Owen Harris</td>\n",
       "      <td>male</td>\n",
       "      <td>22.0</td>\n",
       "      <td>1</td>\n",
       "      <td>0</td>\n",
       "      <td>A/5 21171</td>\n",
       "      <td>7.2500</td>\n",
       "      <td>NaN</td>\n",
       "      <td>S</td>\n",
       "    </tr>\n",
       "    <tr>\n",
       "      <th>1</th>\n",
       "      <td>2</td>\n",
       "      <td>1</td>\n",
       "      <td>1</td>\n",
       "      <td>Cumings, Mrs. John Bradley (Florence Briggs Th...</td>\n",
       "      <td>female</td>\n",
       "      <td>38.0</td>\n",
       "      <td>1</td>\n",
       "      <td>0</td>\n",
       "      <td>PC 17599</td>\n",
       "      <td>71.2833</td>\n",
       "      <td>C85</td>\n",
       "      <td>C</td>\n",
       "    </tr>\n",
       "    <tr>\n",
       "      <th>2</th>\n",
       "      <td>3</td>\n",
       "      <td>1</td>\n",
       "      <td>3</td>\n",
       "      <td>Heikkinen, Miss. Laina</td>\n",
       "      <td>female</td>\n",
       "      <td>26.0</td>\n",
       "      <td>0</td>\n",
       "      <td>0</td>\n",
       "      <td>STON/O2. 3101282</td>\n",
       "      <td>7.9250</td>\n",
       "      <td>NaN</td>\n",
       "      <td>S</td>\n",
       "    </tr>\n",
       "    <tr>\n",
       "      <th>3</th>\n",
       "      <td>4</td>\n",
       "      <td>1</td>\n",
       "      <td>1</td>\n",
       "      <td>Futrelle, Mrs. Jacques Heath (Lily May Peel)</td>\n",
       "      <td>female</td>\n",
       "      <td>35.0</td>\n",
       "      <td>1</td>\n",
       "      <td>0</td>\n",
       "      <td>113803</td>\n",
       "      <td>53.1000</td>\n",
       "      <td>C123</td>\n",
       "      <td>S</td>\n",
       "    </tr>\n",
       "    <tr>\n",
       "      <th>4</th>\n",
       "      <td>5</td>\n",
       "      <td>0</td>\n",
       "      <td>3</td>\n",
       "      <td>Allen, Mr. William Henry</td>\n",
       "      <td>male</td>\n",
       "      <td>35.0</td>\n",
       "      <td>0</td>\n",
       "      <td>0</td>\n",
       "      <td>373450</td>\n",
       "      <td>8.0500</td>\n",
       "      <td>NaN</td>\n",
       "      <td>S</td>\n",
       "    </tr>\n",
       "    <tr>\n",
       "      <th>...</th>\n",
       "      <td>...</td>\n",
       "      <td>...</td>\n",
       "      <td>...</td>\n",
       "      <td>...</td>\n",
       "      <td>...</td>\n",
       "      <td>...</td>\n",
       "      <td>...</td>\n",
       "      <td>...</td>\n",
       "      <td>...</td>\n",
       "      <td>...</td>\n",
       "      <td>...</td>\n",
       "      <td>...</td>\n",
       "    </tr>\n",
       "    <tr>\n",
       "      <th>709</th>\n",
       "      <td>886</td>\n",
       "      <td>0</td>\n",
       "      <td>3</td>\n",
       "      <td>Rice, Mrs. William (Margaret Norton)</td>\n",
       "      <td>female</td>\n",
       "      <td>39.0</td>\n",
       "      <td>0</td>\n",
       "      <td>5</td>\n",
       "      <td>382652</td>\n",
       "      <td>29.1250</td>\n",
       "      <td>NaN</td>\n",
       "      <td>Q</td>\n",
       "    </tr>\n",
       "    <tr>\n",
       "      <th>710</th>\n",
       "      <td>887</td>\n",
       "      <td>0</td>\n",
       "      <td>2</td>\n",
       "      <td>Montvila, Rev. Juozas</td>\n",
       "      <td>male</td>\n",
       "      <td>27.0</td>\n",
       "      <td>0</td>\n",
       "      <td>0</td>\n",
       "      <td>211536</td>\n",
       "      <td>13.0000</td>\n",
       "      <td>NaN</td>\n",
       "      <td>S</td>\n",
       "    </tr>\n",
       "    <tr>\n",
       "      <th>711</th>\n",
       "      <td>888</td>\n",
       "      <td>1</td>\n",
       "      <td>1</td>\n",
       "      <td>Graham, Miss. Margaret Edith</td>\n",
       "      <td>female</td>\n",
       "      <td>19.0</td>\n",
       "      <td>0</td>\n",
       "      <td>0</td>\n",
       "      <td>112053</td>\n",
       "      <td>30.0000</td>\n",
       "      <td>B42</td>\n",
       "      <td>S</td>\n",
       "    </tr>\n",
       "    <tr>\n",
       "      <th>712</th>\n",
       "      <td>890</td>\n",
       "      <td>1</td>\n",
       "      <td>1</td>\n",
       "      <td>Behr, Mr. Karl Howell</td>\n",
       "      <td>male</td>\n",
       "      <td>26.0</td>\n",
       "      <td>0</td>\n",
       "      <td>0</td>\n",
       "      <td>111369</td>\n",
       "      <td>30.0000</td>\n",
       "      <td>C148</td>\n",
       "      <td>C</td>\n",
       "    </tr>\n",
       "    <tr>\n",
       "      <th>713</th>\n",
       "      <td>891</td>\n",
       "      <td>0</td>\n",
       "      <td>3</td>\n",
       "      <td>Dooley, Mr. Patrick</td>\n",
       "      <td>male</td>\n",
       "      <td>32.0</td>\n",
       "      <td>0</td>\n",
       "      <td>0</td>\n",
       "      <td>370376</td>\n",
       "      <td>7.7500</td>\n",
       "      <td>NaN</td>\n",
       "      <td>Q</td>\n",
       "    </tr>\n",
       "  </tbody>\n",
       "</table>\n",
       "<p>714 rows × 12 columns</p>\n",
       "</div>"
      ],
      "text/plain": [
       "     PassengerId  Survived  Pclass  \\\n",
       "0              1         0       3   \n",
       "1              2         1       1   \n",
       "2              3         1       3   \n",
       "3              4         1       1   \n",
       "4              5         0       3   \n",
       "..           ...       ...     ...   \n",
       "709          886         0       3   \n",
       "710          887         0       2   \n",
       "711          888         1       1   \n",
       "712          890         1       1   \n",
       "713          891         0       3   \n",
       "\n",
       "                                                  Name     Sex   Age  SibSp  \\\n",
       "0                              Braund, Mr. Owen Harris    male  22.0      1   \n",
       "1    Cumings, Mrs. John Bradley (Florence Briggs Th...  female  38.0      1   \n",
       "2                               Heikkinen, Miss. Laina  female  26.0      0   \n",
       "3         Futrelle, Mrs. Jacques Heath (Lily May Peel)  female  35.0      1   \n",
       "4                             Allen, Mr. William Henry    male  35.0      0   \n",
       "..                                                 ...     ...   ...    ...   \n",
       "709               Rice, Mrs. William (Margaret Norton)  female  39.0      0   \n",
       "710                              Montvila, Rev. Juozas    male  27.0      0   \n",
       "711                       Graham, Miss. Margaret Edith  female  19.0      0   \n",
       "712                              Behr, Mr. Karl Howell    male  26.0      0   \n",
       "713                                Dooley, Mr. Patrick    male  32.0      0   \n",
       "\n",
       "     Parch            Ticket     Fare Cabin Embarked  \n",
       "0        0         A/5 21171   7.2500   NaN        S  \n",
       "1        0          PC 17599  71.2833   C85        C  \n",
       "2        0  STON/O2. 3101282   7.9250   NaN        S  \n",
       "3        0            113803  53.1000  C123        S  \n",
       "4        0            373450   8.0500   NaN        S  \n",
       "..     ...               ...      ...   ...      ...  \n",
       "709      5            382652  29.1250   NaN        Q  \n",
       "710      0            211536  13.0000   NaN        S  \n",
       "711      0            112053  30.0000   B42        S  \n",
       "712      0            111369  30.0000  C148        C  \n",
       "713      0            370376   7.7500   NaN        Q  \n",
       "\n",
       "[714 rows x 12 columns]"
      ]
     },
     "execution_count": 51,
     "metadata": {},
     "output_type": "execute_result"
    }
   ],
   "source": [
    "data.dropna(subset=['Age'], inplace=True)\n",
    "data.reset_index(drop=True)"
   ]
  },
  {
   "cell_type": "markdown",
   "metadata": {},
   "source": [
    "## 2\n",
    "\n",
    "Постройте график рассеяния с возрастом в качестве оси абсцисс и ценой билета в качестве оси ординат. Отметьте красным — погибших, зеленым — спасшихся пассажиров. Постройте отдельно 2 графика: для женщин и для мужчин. \n",
    "\n",
    "Выполняется ли для данного множества гипотеза компактности?"
   ]
  },
  {
   "cell_type": "code",
   "execution_count": 52,
   "metadata": {},
   "outputs": [],
   "source": [
    "%matplotlib inline\n",
    "import matplotlib.pyplot as plt"
   ]
  },
  {
   "cell_type": "code",
   "execution_count": 53,
   "metadata": {},
   "outputs": [
    {
     "data": {
      "image/png": "[encoded data removed]",
      "text/plain": [
       "<Figure size 432x288 with 1 Axes>"
      ]
     },
     "metadata": {
      "needs_background": "light"
     },
     "output_type": "display_data"
    }
   ],
   "source": [
    "fig, axes = plt.subplots()\n",
    "data.loc[data['Survived'] == 0].plot(x='Age',y='Fare',kind='scatter',color='green',ax=axes,alpha = 0.4)\n",
    "data.loc[data['Survived'] == 1].plot(x='Age',y='Fare',kind='scatter',color='red',ax=axes,alpha = 0.4)\n",
    "\n",
    "plt.show()"
   ]
  },
  {
   "cell_type": "code",
   "execution_count": 54,
   "metadata": {},
   "outputs": [
    {
     "data": {
      "image/png": "[encoded data removed]",
      "text/plain": [
       "<Figure size 432x288 with 1 Axes>"
      ]
     },
     "metadata": {
      "needs_background": "light"
     },
     "output_type": "display_data"
    }
   ],
   "source": [
    "Men = data.loc[data['Sex'] == 'male', ['Survived', 'Age', 'Fare']]\n",
    "Women = data.loc[data['Sex'] == 'female', ['Survived', 'Age', 'Fare']]\n",
    "fig, axes = plt.subplots()\n",
    "Men.loc[Men['Survived'] == 0].plot(x='Age',y='Fare',kind='scatter',color='green',ax=axes,alpha = 0.4)\n",
    "Men.loc[Men['Survived'] == 1].plot(x='Age',y='Fare',kind='scatter',color='red',ax=axes,alpha = 0.4)\n",
    "\n",
    "plt.show()"
   ]
  },
  {
   "cell_type": "code",
   "execution_count": 55,
   "metadata": {},
   "outputs": [
    {
     "data": {
      "image/png": "[encoded data removed]",
      "text/plain": [
       "<Figure size 432x288 with 1 Axes>"
      ]
     },
     "metadata": {
      "needs_background": "light"
     },
     "output_type": "display_data"
    }
   ],
   "source": [
    "fig, axes = plt.subplots()\n",
    "Women.loc[Women['Survived'] == 0].plot(x='Age',y='Fare',kind='scatter',color='green',ax=axes,alpha = 0.4)\n",
    "Women.loc[Women['Survived'] == 1].plot(x='Age',y='Fare',kind='scatter',color='red',ax=axes,alpha = 0.4)\n",
    "\n",
    "plt.show()"
   ]
  },
  {
   "cell_type": "code",
   "execution_count": 56,
   "metadata": {},
   "outputs": [],
   "source": [
    "#гипотеза компактности не выполняется"
   ]
  },
  {
   "cell_type": "markdown",
   "metadata": {},
   "source": [
    "## 3 \n",
    "\n",
    "Для построения модели нам понадобится метрика близости пассажиров. Запрограммируем функцию вычисления расстояния между пассажирами:"
   ]
  },
  {
   "cell_type": "code",
   "execution_count": 57,
   "metadata": {},
   "outputs": [],
   "source": [
    "def distance(a,b):\n",
    "    d = 0\n",
    "    d += abs(a['Pclass'] - b['Pclass'])\n",
    "    d += a['Sex'] != b['Sex']\n",
    "    d += abs(a['Age'] - b['Age'])\n",
    "    d += abs(a['SibSp'] - b['SibSp'])\n",
    "    d += abs(a['Parch'] - b['Parch'])\n",
    "    d += abs(a['Fare'] - b['Fare'])\n",
    "    d += a['Embarked'] != b['Embarked']\n",
    "    return d"
   ]
  },
  {
   "cell_type": "markdown",
   "metadata": {},
   "source": [
    "Метод `KNeighborsClassifier` из библиотеки `sklearn` излишне требователен к типам данных. Запрограммируем метод `k` ближайших соседей вручную:"
   ]
  },
  {
   "cell_type": "code",
   "execution_count": 58,
   "metadata": {},
   "outputs": [],
   "source": [
    "import numpy as np\n",
    "import tqdm"
   ]
  },
  {
   "cell_type": "code",
   "execution_count": 59,
   "metadata": {},
   "outputs": [],
   "source": [
    "def myKNeighborsClassifier(learnData, K, passengerIndexForPrediction):\n",
    "    dists = np.zeros((learnData.shape[0] - 1, 2))\n",
    "    i = 0\n",
    "    for idx, row in learnData.iterrows():\n",
    "        if idx != passengerIndexForPrediction:  #LOO метод контроля ошибки\n",
    "            dists[i][0] = distance(learnData.loc[passengerIndexForPrediction,], row)\n",
    "            dists[i][1] = row['Survived']\n",
    "            i += 1\n",
    "    dists = sorted(dists, key = lambda pair: pair[0])\n",
    "    prediction = 0\n",
    "    for i in range(K): \n",
    "        prediction += dists[i][1]\n",
    "    prediction /= K\n",
    "    return round(prediction)"
   ]
  },
  {
   "cell_type": "markdown",
   "metadata": {},
   "source": [
    "Запустите предсказание для всех пассажиров судна и, используя LOO-контроль ошибки оцените качество классификации:"
   ]
  },
  {
   "cell_type": "code",
   "execution_count": 38,
   "metadata": {},
   "outputs": [
    {
     "name": "stderr",
     "output_type": "stream",
     "text": [
      "100%|████████████████████████████████████████████████████████████████████████████████| 714/714 [01:57<00:00,  6.10it/s]"
     ]
    },
    {
     "name": "stdout",
     "output_type": "stream",
     "text": [
      "0.7226890756302521\n"
     ]
    },
    {
     "name": "stderr",
     "output_type": "stream",
     "text": [
      "\n"
     ]
    }
   ],
   "source": [
    "accuracy = 0\n",
    "for idx, row in tqdm.tqdm(data.iterrows(), total=len(data)):\n",
    "    accuracy += row['Survived'] == myKNeighborsClassifier(data, 27, idx)\n",
    "print(accuracy/data.shape[0])"
   ]
  },
  {
   "cell_type": "markdown",
   "metadata": {},
   "source": [
    "Подберите слагаемые в метрике, их веса и количество соседей так, чтобы качество классификации было максимальным. \n",
    "\n",
    "Если функция на `python` работает долго, воспользуйтесь ее аналогом на \n",
    "С++:  `KNeighborsClassifier.cpp.` \n",
    "\n",
    "Компиляция на Linux выполняется командой \n",
    "\n",
    "    g++ -O2 KNeighborsClassifier.cpp -o  KNeighborsClassifier\n",
    "\n",
    "\n",
    "Запуск: \n",
    "\n",
    "    ./KNeighborsClassifier\n",
    "    \n",
    "Построившему метрику с наилучшим качеством: +5 бонусных баллов."
   ]
  },
  {
   "cell_type": "markdown",
   "metadata": {},
   "source": [
    "## 4\n",
    "\n",
    "Создайте копию функции `myKNeighborsClassifier` и измените ее так, чтобы она считала выступ объекта. Назовите ее `calcMargin`. \n",
    "\n",
    "Вычислите выступы для всех объектов и выведите информацию о пяти объектах с минимальным выступом (шумовых выбросах) и пяти объектах с максимальным выступом (эталонах). Объясните в комментариях полученные данные."
   ]
  },
  {
   "cell_type": "code",
   "execution_count": 60,
   "metadata": {},
   "outputs": [],
   "source": [
    "def calcMargin(learnData, K, passengerIndexForPrediction):\n",
    "    dists = np.zeros((learnData.shape[0] - 1, 2))\n",
    "    i = 0\n",
    "    for idx, row in learnData.iterrows():\n",
    "        if idx != passengerIndexForPrediction:  #LOO метод контроля ошибки\n",
    "            dists[i][0] = distance(learnData.loc[passengerIndexForPrediction,], row)\n",
    "            dists[i][1] = row['Survived']\n",
    "            i += 1\n",
    "    dists = sorted(dists, key = lambda pair: pair[0])\n",
    "    margin = 0\n",
    "    for i in range(K): \n",
    "        margin += dists[i][1]\n",
    "    margin /= K\n",
    "    return margin"
   ]
  },
  {
   "cell_type": "code",
   "execution_count": 61,
   "metadata": {},
   "outputs": [],
   "source": [
    "margins = []"
   ]
  },
  {
   "cell_type": "code",
   "execution_count": 62,
   "metadata": {},
   "outputs": [
    {
     "name": "stderr",
     "output_type": "stream",
     "text": [
      "100%|████████████████████████████████████████████████████████████████████████████████| 714/714 [02:00<00:00,  5.92it/s]\n"
     ]
    }
   ],
   "source": [
    "for idx, row in tqdm.tqdm(data.iterrows(), total=len(data)):\n",
    "    margins.append(calcMargin(data, 27, idx))"
   ]
  },
  {
   "cell_type": "markdown",
   "metadata": {},
   "source": [
    "Это легче всего сделать с помощью функции `np.argsort`, возвращающей индексы элементов в отсортированном ряду:"
   ]
  },
  {
   "cell_type": "code",
   "execution_count": 63,
   "metadata": {
    "scrolled": true
   },
   "outputs": [],
   "source": [
    "idx = np.argsort(margins)\n",
    "first = idx[:5]\n",
    "last = idx[-5:]"
   ]
  },
  {
   "cell_type": "code",
   "execution_count": 64,
   "metadata": {},
   "outputs": [
    {
     "name": "stdout",
     "output_type": "stream",
     "text": [
      "Белые вороны (аномалии)\n",
      "PassengerId                                 69\n",
      "Survived                                     1\n",
      "Pclass                                       3\n",
      "Name           Andersson, Miss. Erna Alexandra\n",
      "Sex                                     female\n",
      "Age                                       17.0\n",
      "SibSp                                        4\n",
      "Parch                                        2\n",
      "Ticket                                 3101281\n",
      "Fare                                     7.925\n",
      "Cabin                                      NaN\n",
      "Embarked                                     S\n",
      "Name: 68, dtype: object\n",
      "\n",
      "PassengerId                             659\n",
      "Survived                                  0\n",
      "Pclass                                    2\n",
      "Name           Eitemiller, Mr. George Floyd\n",
      "Sex                                    male\n",
      "Age                                    23.0\n",
      "SibSp                                     0\n",
      "Parch                                     0\n",
      "Ticket                                29751\n",
      "Fare                                   13.0\n",
      "Cabin                                   NaN\n",
      "Embarked                                  S\n",
      "Name: 658, dtype: object\n",
      "\n",
      "PassengerId                             82\n",
      "Survived                                 1\n",
      "Pclass                                   3\n",
      "Name           Sheerlinck, Mr. Jan Baptist\n",
      "Sex                                   male\n",
      "Age                                   29.0\n",
      "SibSp                                    0\n",
      "Parch                                    0\n",
      "Ticket                              345779\n",
      "Fare                                   9.5\n",
      "Cabin                                  NaN\n",
      "Embarked                                 S\n",
      "Name: 81, dtype: object\n",
      "\n"
     ]
    }
   ],
   "source": [
    "print('Белые вороны (аномалии)')\n",
    "for i in first:\n",
    "    try:\n",
    "        print(data.loc[i])\n",
    "        print()\n",
    "    except KeyError:\n",
    "            continue"
   ]
  },
  {
   "cell_type": "code",
   "execution_count": 65,
   "metadata": {},
   "outputs": [
    {
     "name": "stdout",
     "output_type": "stream",
     "text": [
      "Эталоны (характерные объекты)\n",
      "PassengerId                    397\n",
      "Survived                         0\n",
      "Pclass                           3\n",
      "Name           Olsson, Miss. Elina\n",
      "Sex                         female\n",
      "Age                           31.0\n",
      "SibSp                            0\n",
      "Parch                            0\n",
      "Ticket                      350407\n",
      "Fare                        7.8542\n",
      "Cabin                          NaN\n",
      "Embarked                         S\n",
      "Name: 396, dtype: object\n",
      "\n",
      "PassengerId                 281\n",
      "Survived                      0\n",
      "Pclass                        3\n",
      "Name           Duane, Mr. Frank\n",
      "Sex                        male\n",
      "Age                        65.0\n",
      "SibSp                         0\n",
      "Parch                         0\n",
      "Ticket                   336439\n",
      "Fare                       7.75\n",
      "Cabin                       NaN\n",
      "Embarked                      Q\n",
      "Name: 280, dtype: object\n",
      "\n",
      "PassengerId                            665\n",
      "Survived                                 1\n",
      "Pclass                                   3\n",
      "Name           Lindqvist, Mr. Eino William\n",
      "Sex                                   male\n",
      "Age                                   20.0\n",
      "SibSp                                    1\n",
      "Parch                                    0\n",
      "Ticket                   STON/O 2. 3101285\n",
      "Fare                                 7.925\n",
      "Cabin                                  NaN\n",
      "Embarked                                 S\n",
      "Name: 664, dtype: object\n",
      "\n",
      "PassengerId                164\n",
      "Survived                     0\n",
      "Pclass                       3\n",
      "Name           Calic, Mr. Jovo\n",
      "Sex                       male\n",
      "Age                       17.0\n",
      "SibSp                        0\n",
      "Parch                        0\n",
      "Ticket                  315093\n",
      "Fare                    8.6625\n",
      "Cabin                      NaN\n",
      "Embarked                     S\n",
      "Name: 163, dtype: object\n",
      "\n"
     ]
    }
   ],
   "source": [
    "print('Эталоны (характерные объекты)')\n",
    "for i in last:\n",
    "    try:\n",
    "        print(data.loc[i])\n",
    "        print()\n",
    "    except KeyError:\n",
    "            continue"
   ]
  },
  {
   "cell_type": "code",
   "execution_count": null,
   "metadata": {},
   "outputs": [],
   "source": [
    "#По данным видно что выживали женщины и дети или мужчины из 1 класса, менее повезло 2 и 3 классу "
   ]
  }
 ],
 "metadata": {
  "kernelspec": {
   "display_name": "Python 3 (ipykernel)",
   "language": "python",
   "name": "python3"
  },
  "language_info": {
   "codemirror_mode": {
    "name": "ipython",
    "version": 3
   },
   "file_extension": ".py",
   "mimetype": "text/x-python",
   "name": "python",
   "nbconvert_exporter": "python",
   "pygments_lexer": "ipython3",
   "version": "3.9.7"
  }
 },
 "nbformat": 4,
 "nbformat_minor": 2
}
